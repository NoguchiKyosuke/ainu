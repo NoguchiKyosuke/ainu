{
 "cells": [
  {
   "cell_type": "markdown",
   "id": "b47bc615",
   "metadata": {},
   "source": [
    "# Ainu Speech: Recorded Audio vs. Sample Set\n",
    "\n",
    "This notebook analyzes recorded audio and compares it against a sample Ainu audio set using MFCCs, mel features, DTW-based similarity, and optional pretrained speech embeddings."
   ]
  },
  {
   "cell_type": "markdown",
   "id": "40d6cbf3",
   "metadata": {},
   "source": [
    "## 0) Install Dependencies"
   ]
  },
  {
   "cell_type": "code",
   "execution_count": null,
   "id": "447bccf7",
   "metadata": {},
   "outputs": [],
   "source": [
    "# If running in a fresh environment, uncomment and run this cell once\n",
    "#!pip install -r ../requirements.txt"
   ]
  },
  {
   "cell_type": "markdown",
   "id": "35e8c343",
   "metadata": {},
   "source": [
    "## 1) Import Dependencies"
   ]
  },
  {
   "cell_type": "code",
   "execution_count": null,
   "id": "e6fac5e9",
   "metadata": {},
   "outputs": [],
   "source": [
    "import os\n",
    "import json\n",
    "import math\n",
    "from pathlib import Path\n",
    "from typing import List, Dict, Tuple\n",
    "\n",
    "import numpy as np\n",
    "import pandas as pd\n",
    "import matplotlib.pyplot as plt\n",
    "# use seaborn for plotting statistics\n",
    "import seaborn as sns\n",
    "from tqdm import tqdm\n",
    "\n",
    "import librosa\n",
    "import soundfile as sf\n",
    "\n",
    "# Local utilities\n",
    "import sys\n",
    "ROOT = Path(\"..\").resolve()\n",
    "sys.path.append(str((ROOT / 'src').resolve()))\n",
    "from audio_utils import load_audio, trim_silence, extract_features, zscore, dtw_distance, cosine_similarity_matrix, compare_recording_to_samples\n",
    "\n",
    "# Optional torch/transformers (guarded)\n",
    "try:\n",
    "    import torch\n",
    "    import torchaudio\n",
    "    from transformers import AutoProcessor, AutoModel\n",
    "    HAS_TORCH = True\n",
    "except Exception:\n",
    "    HAS_TORCH = False\n",
    "\n",
    "# Set plotting style\n",
    "sns.set_theme(context=\"notebook\", style=\"whitegrid\")\n",
    "plt.rcParams[\"figure.dpi\"] = 120"
   ]
  },
  {
   "cell_type": "markdown",
   "id": "352bdc18",
   "metadata": {},
   "source": [
    "## 2) Configure Paths and Parameters"
   ]
  },
  {
   "cell_type": "code",
   "execution_count": null,
   "id": "3dc359ff",
   "metadata": {},
   "outputs": [
    {
     "name": "stdout",
     "output_type": "stream",
     "text": [
      "Samples dir: /home/nk21137/OneDrive/5years/graduation_research/ainu/data/samples/vocabulary\n",
      "Recordings dir: /home/nk21137/OneDrive/5years/graduation_research/ainu/data/recordings\n"
     ]
    }
   ],
   "source": [
    "DATA_DIR = (ROOT / 'data').resolve()\n",
    "SAMPLES_DIR = DATA_DIR / 'samples' / 'vocabulary'\n",
    "RECORDINGS_DIR = DATA_DIR / 'recordings'\n",
    "OUTPUT_DIR = (ROOT / 'outputs').resolve()\n",
    "OUTPUT_DIR.mkdir(parents=True, exist_ok=True)\n",
    "\n",
    "# Audio parameters\n",
    "TARGET_SR = 16000\n",
    "N_MELS = 64\n",
    "N_MFCC = 13\n",
    "HOP_LENGTH = 160    # 10 ms @ 16 kHz\n",
    "N_FFT = 400         # 25 ms window @ 16 kHz\n",
    "TRIM_DB = 30.0\n",
    "\n",
    "# Ranking\n",
    "TOP_K = 5\n",
    "DTW_METRIC = 'cosine'  # could be 'euclidean'\n",
    "\n",
    "# Embedding model (optional)\n",
    "EMBED_MODEL_ID = 'facebook/wav2vec2-base-960h'  # multilingual alternative: 'facebook/wav2vec2-large-xlsr-53'\n",
    "\n",
    "print('Samples dir:', SAMPLES_DIR)\n",
    "print('Recordings dir:', RECORDINGS_DIR)\n",
    "\n",
    "# Helpers\n",
    "AUDIO_EXTS = {'.wav', '.flac', '.mp3', '.ogg', '.m4a'}\n",
    "\n",
    "def list_audio_files(folder: Path) -> List[Path]:\n",
    "    # List files without not following symlinks of AUDIO_EXTS\n",
    "    return [p for p in folder.rglob('*') if p.suffix.lower() in AUDIO_EXTS]\n",
    "\n",
    "def latest_file(folder: Path) -> Path | None:\n",
    "    files = list_audio_files(folder)\n",
    "    if not files:\n",
    "        return None\n",
    "    return max(files, key=lambda p: p.stat().st_mtime)\n"
   ]
  },
  {
   "cell_type": "markdown",
   "id": "d9d468d8",
   "metadata": {},
   "source": [
    "## 3) Load Sample Ainu Audio Dataset"
   ]
  },
  {
   "cell_type": "code",
   "execution_count": 4,
   "id": "9555b5e5",
   "metadata": {},
   "outputs": [
    {
     "name": "stdout",
     "output_type": "stream",
     "text": [
      "Indexed 1 sample files.\n"
     ]
    },
    {
     "data": {
      "text/html": [
       "<div>\n",
       "<style scoped>\n",
       "    .dataframe tbody tr th:only-of-type {\n",
       "        vertical-align: middle;\n",
       "    }\n",
       "\n",
       "    .dataframe tbody tr th {\n",
       "        vertical-align: top;\n",
       "    }\n",
       "\n",
       "    .dataframe thead th {\n",
       "        text-align: right;\n",
       "    }\n",
       "</style>\n",
       "<table border=\"1\" class=\"dataframe\">\n",
       "  <thead>\n",
       "    <tr style=\"text-align: right;\">\n",
       "      <th></th>\n",
       "      <th>path</th>\n",
       "      <th>label</th>\n",
       "      <th>relpath</th>\n",
       "    </tr>\n",
       "  </thead>\n",
       "  <tbody>\n",
       "    <tr>\n",
       "      <th>0</th>\n",
       "      <td>/home/nk21137/OneDrive/5years/graduation_resea...</td>\n",
       "      <td>vocabulary</td>\n",
       "      <td>manu.wav</td>\n",
       "    </tr>\n",
       "  </tbody>\n",
       "</table>\n",
       "</div>"
      ],
      "text/plain": [
       "                                                path       label   relpath\n",
       "0  /home/nk21137/OneDrive/5years/graduation_resea...  vocabulary  manu.wav"
      ]
     },
     "execution_count": 4,
     "metadata": {},
     "output_type": "execute_result"
    }
   ],
   "source": [
    "def infer_label_from_path(p: Path) -> str:\n",
    "    # e.g., data/samples/<label>/<file>.wav -> use the parent folder as label\n",
    "    try:\n",
    "        return p.parent.name\n",
    "    except Exception:\n",
    "        return \"unknown\"\n",
    "\n",
    "sample_files = list_audio_files(SAMPLES_DIR)\n",
    "if not sample_files:\n",
    "    print(f\"No sample files found in {SAMPLES_DIR}. Please add WAV/FLAC/etc.\")\n",
    "\n",
    "samples_df = pd.DataFrame({\n",
    "    'path': [str(p) for p in sample_files],\n",
    "    'label': [infer_label_from_path(p) for p in sample_files],\n",
    "    'relpath': [str(p.relative_to(SAMPLES_DIR)) for p in sample_files]\n",
    "})\n",
    "print(f\"Indexed {len(samples_df)} sample files.\")\n",
    "samples_df.head(10)"
   ]
  },
  {
   "cell_type": "markdown",
   "id": "6392aeb4",
   "metadata": {},
   "source": [
    "## 4) Load and Preprocess Recorded Audio"
   ]
  },
  {
   "cell_type": "code",
   "execution_count": 5,
   "id": "eb657483",
   "metadata": {},
   "outputs": [
    {
     "name": "stdout",
     "output_type": "stream",
     "text": [
      "Using recording: /home/nk21137/OneDrive/5years/graduation_research/ainu/data/recordings/yabuki/manu.wav\n",
      "Recording duration: 0.53 s @ 16000 Hz\n"
     ]
    }
   ],
   "source": [
    "# Choose a recorded file: either specify manually or take the latest in the recordings folder\n",
    "REC_FILE = latest_file(RECORDINGS_DIR)\n",
    "if REC_FILE is None:\n",
    "    print(f\"No recorded audio found in {RECORDINGS_DIR}. Place a WAV/FLAC/MP3 file there.\")\n",
    "else:\n",
    "    print(\"Using recording:\", REC_FILE)\n",
    "\n",
    "rec_audio = None\n",
    "if REC_FILE is not None:\n",
    "    rec_audio = load_audio(str(REC_FILE), target_sr=TARGET_SR, mono=True)\n",
    "    # Peak normalize to -1 dBFS\n",
    "    peak = np.max(np.abs(rec_audio.y)) if rec_audio.y.size else 0\n",
    "    if peak > 1e-6:\n",
    "        rec_audio = rec_audio.__class__(y=rec_audio.y / peak * 0.89, sr=rec_audio.sr, path=rec_audio.path)\n",
    "    print(f\"Recording duration: {rec_audio.y.shape[0]/rec_audio.sr:.2f} s @ {rec_audio.sr} Hz\")"
   ]
  },
  {
   "cell_type": "markdown",
   "id": "ef14b942",
   "metadata": {},
   "source": [
    "## 5) Voice Activity Detection and Silence Trimming"
   ]
  },
  {
   "cell_type": "code",
   "execution_count": null,
   "id": "a1ee4f02",
   "metadata": {},
   "outputs": [
    {
     "name": "stdout",
     "output_type": "stream",
     "text": [
      "Trimmed duration: 0.45 s (top_db=30.0)\n"
     ]
    }
   ],
   "source": [
    "trimmed_audio = None\n",
    "if rec_audio is not None:\n",
    "    # TRIM_DB = 30.0\n",
    "    # trim_silence trims silent sections (margin 0.01 seconds)\n",
    "    trimmed_audio = trim_silence(rec_audio, top_db=TRIM_DB)\n",
    "    dur = trimmed_audio.y.shape[0] / trimmed_audio.sr\n",
    "    print(f\"Trimmed duration: {dur:.2f} s (top_db={TRIM_DB})\")\n",
    "\n",
    "# Optional: segment long files into voiced chunks using energy-based VAD\n",
    "# For simplicity, we keep a single trimmed utterance here.\n"
   ]
  },
  {
   "cell_type": "markdown",
   "id": "ab546da7",
   "metadata": {},
   "source": [
    "## 6) Feature Extraction (Log-Mel Spectrograms, MFCC)"
   ]
  },
  {
   "cell_type": "code",
   "execution_count": null,
   "id": "b0c7ddbb",
   "metadata": {},
   "outputs": [
    {
     "name": "stderr",
     "output_type": "stream",
     "text": [
      "/home/nk21137/OneDrive/5years/graduation_research/ainu/src/audio_utils.py:67: UserWarning: With fmin=50.000, sr=16000 and frame_length=400, less than two periods of fmin fit into the frame, which can cause inaccurate pitch detection. Consider increasing to fmin=80.000 or frame_length=641.\n",
      "  f0 = librosa.yin(y, fmin=50, fmax=500, sr=audio.sr, frame_length=n_fft, hop_length=hop_length)\n"
     ]
    },
    {
     "name": "stdout",
     "output_type": "stream",
     "text": [
      "Recording features: (45, 51)\n"
     ]
    },
    {
     "name": "stderr",
     "output_type": "stream",
     "text": [
      "Extracting sample features: 100%|██████████| 1/1 [00:00<00:00, 261.25it/s]"
     ]
    },
    {
     "name": "stdout",
     "output_type": "stream",
     "text": [
      "Extracted features for 1 / 1 samples\n"
     ]
    },
    {
     "name": "stderr",
     "output_type": "stream",
     "text": [
      "\n"
     ]
    }
   ],
   "source": [
    "# Feature extraction for recording\n",
    "F_rec = None\n",
    "if trimmed_audio is not None:\n",
    "    # extract_features converts audio to full-body-photo-like representation\n",
    "    #N_MFCC = 13\n",
    "    #HOP_LENGTH = 160    # 10 ms @ 16 kHz\n",
    "    #N_FFT = 400         # 25 ms window @ 16 kHz\n",
    "    F_rec = extract_features(trimmed_audio, n_mfcc=N_MFCC, hop_length=HOP_LENGTH, n_fft=N_FFT, add_deltas=True, add_prosody=True)\n",
    "    print('Recording features:', F_rec.shape)\n",
    "\n",
    "# Feature extraction for samples (on-the-fly, small sets; for large sets, see caching section)\n",
    "sample_feats = []\n",
    "for p in tqdm(sample_files, desc='Extracting sample features'):\n",
    "    try:\n",
    "        a = trim_silence(load_audio(str(p), target_sr=TARGET_SR))\n",
    "        F = extract_features(a, n_mfcc=N_MFCC, hop_length=HOP_LENGTH, n_fft=N_FFT,\n",
    "                             add_deltas=True, add_prosody=True)\n",
    "        sample_feats.append((str(p), F))\n",
    "    except Exception as e:\n",
    "        print('Error processing', p, e)\n",
    "\n",
    "print(f\"Extracted features for {len(sample_feats)} / {len(sample_files)} samples\")"
   ]
  },
  {
   "cell_type": "markdown",
   "id": "9c41200d",
   "metadata": {},
   "source": [
    "## 7) Feature Normalization and Length Handling"
   ]
  },
  {
   "cell_type": "code",
   "execution_count": null,
   "id": "81d9991b",
   "metadata": {},
   "outputs": [
    {
     "name": "stdout",
     "output_type": "stream",
     "text": [
      "Normalized features. Ready for DTW.\n"
     ]
    }
   ],
   "source": [
    "if F_rec is not None:\n",
    "    # Normalize features\n",
    "    F_rec_z = zscore(F_rec)\n",
    "else:\n",
    "    F_rec_z = None\n",
    "\n",
    "sample_feats_z = []\n",
    "for path, F in sample_feats:\n",
    "    sample_feats_z.append((path, zscore(F)))\n",
    "\n",
    "print('Normalized features. Ready for DTW.')"
   ]
  },
  {
   "cell_type": "markdown",
   "id": "7a6ce5c0",
   "metadata": {},
   "source": [
    "## 8) DTW-Based Similarity Scoring"
   ]
  },
  {
   "cell_type": "code",
   "execution_count": 9,
   "id": "2157b637",
   "metadata": {},
   "outputs": [
    {
     "name": "stderr",
     "output_type": "stream",
     "text": [
      "DTW scoring: 100%|██████████| 1/1 [00:00<00:00, 209.70it/s]\n"
     ]
    },
    {
     "data": {
      "text/html": [
       "<div>\n",
       "<style scoped>\n",
       "    .dataframe tbody tr th:only-of-type {\n",
       "        vertical-align: middle;\n",
       "    }\n",
       "\n",
       "    .dataframe tbody tr th {\n",
       "        vertical-align: top;\n",
       "    }\n",
       "\n",
       "    .dataframe thead th {\n",
       "        text-align: right;\n",
       "    }\n",
       "</style>\n",
       "<table border=\"1\" class=\"dataframe\">\n",
       "  <thead>\n",
       "    <tr style=\"text-align: right;\">\n",
       "      <th></th>\n",
       "      <th>path</th>\n",
       "      <th>label</th>\n",
       "      <th>dtw_dist</th>\n",
       "      <th>dtw_score</th>\n",
       "      <th>n_frames_sample</th>\n",
       "    </tr>\n",
       "  </thead>\n",
       "  <tbody>\n",
       "    <tr>\n",
       "      <th>0</th>\n",
       "      <td>/home/nk21137/OneDrive/5years/graduation_resea...</td>\n",
       "      <td>vocabulary</td>\n",
       "      <td>40.119491</td>\n",
       "      <td>0.413603</td>\n",
       "      <td>52</td>\n",
       "    </tr>\n",
       "  </tbody>\n",
       "</table>\n",
       "</div>"
      ],
      "text/plain": [
       "                                                path       label   dtw_dist  \\\n",
       "0  /home/nk21137/OneDrive/5years/graduation_resea...  vocabulary  40.119491   \n",
       "\n",
       "   dtw_score  n_frames_sample  \n",
       "0   0.413603               52  "
      ]
     },
     "metadata": {},
     "output_type": "display_data"
    }
   ],
   "source": [
    "dtw_results = []\n",
    "if F_rec_z is not None:\n",
    "    for path, Fz in tqdm(sample_feats_z, desc='DTW scoring'):\n",
    "        try:\n",
    "            dist, _ = dtw_distance(F_rec_z, Fz, metric=DTW_METRIC)\n",
    "            # Normalize by combined length to reduce bias\n",
    "            norm = (F_rec_z.shape[0] + Fz.shape[0])\n",
    "            score = dist / max(norm, 1)\n",
    "            dtw_results.append({\n",
    "                'path': path,\n",
    "                'label': infer_label_from_path(Path(path)),\n",
    "                'dtw_dist': dist,\n",
    "                'dtw_score': score,\n",
    "                'n_frames_sample': Fz.shape[0]\n",
    "            })\n",
    "        except Exception as e:\n",
    "            print('DTW failed for', path, e)\n",
    "\n",
    "    dtw_df = pd.DataFrame(dtw_results).sort_values(['dtw_score', 'dtw_dist'], ascending=[True, True])\n",
    "    display(dtw_df.head(TOP_K))\n",
    "else:\n",
    "    dtw_df = pd.DataFrame()\n"
   ]
  },
  {
   "cell_type": "markdown",
   "id": "3c5b0e97",
   "metadata": {},
   "source": [
    "## 9) Embedding-Based Similarity (Optional, Pretrained Model)"
   ]
  },
  {
   "cell_type": "code",
   "execution_count": 10,
   "id": "21af0279",
   "metadata": {},
   "outputs": [
    {
     "name": "stdout",
     "output_type": "stream",
     "text": [
      "Embedding device: cuda\n"
     ]
    },
    {
     "data": {
      "application/vnd.jupyter.widget-view+json": {
       "model_id": "2eef02fb6f3a43309c12a7f932bc7044",
       "version_major": 2,
       "version_minor": 0
      },
      "text/plain": [
       "preprocessor_config.json:   0%|          | 0.00/159 [00:00<?, ?B/s]"
      ]
     },
     "metadata": {},
     "output_type": "display_data"
    },
    {
     "data": {
      "application/vnd.jupyter.widget-view+json": {
       "model_id": "24cee656ff3144ca92d95496aea0822d",
       "version_major": 2,
       "version_minor": 0
      },
      "text/plain": [
       "Fetching 1 files:   0%|          | 0/1 [00:00<?, ?it/s]"
      ]
     },
     "metadata": {},
     "output_type": "display_data"
    },
    {
     "data": {
      "application/vnd.jupyter.widget-view+json": {
       "model_id": "430dc65814ab4e41b5bcde61350bf9c5",
       "version_major": 2,
       "version_minor": 0
      },
      "text/plain": [
       "tokenizer_config.json:   0%|          | 0.00/163 [00:00<?, ?B/s]"
      ]
     },
     "metadata": {},
     "output_type": "display_data"
    },
    {
     "data": {
      "application/vnd.jupyter.widget-view+json": {
       "model_id": "85cc0f63c31d43f1b75039fb800822d2",
       "version_major": 2,
       "version_minor": 0
      },
      "text/plain": [
       "config.json: 0.00B [00:00, ?B/s]"
      ]
     },
     "metadata": {},
     "output_type": "display_data"
    },
    {
     "data": {
      "application/vnd.jupyter.widget-view+json": {
       "model_id": "926b5eb52a144404bfeab067a240ebb6",
       "version_major": 2,
       "version_minor": 0
      },
      "text/plain": [
       "Fetching 1 files:   0%|          | 0/1 [00:00<?, ?it/s]"
      ]
     },
     "metadata": {},
     "output_type": "display_data"
    },
    {
     "data": {
      "application/vnd.jupyter.widget-view+json": {
       "model_id": "fdb171ba51f841d09e35bcacc505469e",
       "version_major": 2,
       "version_minor": 0
      },
      "text/plain": [
       "vocab.json:   0%|          | 0.00/291 [00:00<?, ?B/s]"
      ]
     },
     "metadata": {},
     "output_type": "display_data"
    },
    {
     "data": {
      "application/vnd.jupyter.widget-view+json": {
       "model_id": "1f1e047371564e0989558cc225aa4ebc",
       "version_major": 2,
       "version_minor": 0
      },
      "text/plain": [
       "special_tokens_map.json:   0%|          | 0.00/85.0 [00:00<?, ?B/s]"
      ]
     },
     "metadata": {},
     "output_type": "display_data"
    },
    {
     "data": {
      "application/vnd.jupyter.widget-view+json": {
       "model_id": "30bf574bce014c64bca465573c5e2f1a",
       "version_major": 2,
       "version_minor": 0
      },
      "text/plain": [
       "model.safetensors:   0%|          | 0.00/378M [00:00<?, ?B/s]"
      ]
     },
     "metadata": {},
     "output_type": "display_data"
    },
    {
     "name": "stderr",
     "output_type": "stream",
     "text": [
      "Some weights of Wav2Vec2Model were not initialized from the model checkpoint at facebook/wav2vec2-base-960h and are newly initialized: ['masked_spec_embed']\n",
      "You should probably TRAIN this model on a down-stream task to be able to use it for predictions and inference.\n",
      "Embedding scoring: 100%|██████████| 1/1 [00:00<00:00, 122.15it/s]\n"
     ]
    },
    {
     "data": {
      "text/html": [
       "<div>\n",
       "<style scoped>\n",
       "    .dataframe tbody tr th:only-of-type {\n",
       "        vertical-align: middle;\n",
       "    }\n",
       "\n",
       "    .dataframe tbody tr th {\n",
       "        vertical-align: top;\n",
       "    }\n",
       "\n",
       "    .dataframe thead th {\n",
       "        text-align: right;\n",
       "    }\n",
       "</style>\n",
       "<table border=\"1\" class=\"dataframe\">\n",
       "  <thead>\n",
       "    <tr style=\"text-align: right;\">\n",
       "      <th></th>\n",
       "      <th>path</th>\n",
       "      <th>label</th>\n",
       "      <th>cos_sim</th>\n",
       "    </tr>\n",
       "  </thead>\n",
       "  <tbody>\n",
       "    <tr>\n",
       "      <th>0</th>\n",
       "      <td>/home/nk21137/OneDrive/5years/graduation_resea...</td>\n",
       "      <td>vocabulary</td>\n",
       "      <td>0.933435</td>\n",
       "    </tr>\n",
       "  </tbody>\n",
       "</table>\n",
       "</div>"
      ],
      "text/plain": [
       "                                                path       label   cos_sim\n",
       "0  /home/nk21137/OneDrive/5years/graduation_resea...  vocabulary  0.933435"
      ]
     },
     "metadata": {},
     "output_type": "display_data"
    }
   ],
   "source": [
    "embed_df = pd.DataFrame()\n",
    "if HAS_TORCH:\n",
    "    device = torch.device('cuda' if torch.cuda.is_available() else 'cpu')\n",
    "    print('Embedding device:', device)\n",
    "    try:\n",
    "        processor = AutoProcessor.from_pretrained(EMBED_MODEL_ID)\n",
    "        model = AutoModel.from_pretrained(EMBED_MODEL_ID).to(device).eval()\n",
    "        def embed_audio(y: np.ndarray, sr: int) -> np.ndarray:\n",
    "            # Resample to model's expected input if needed\n",
    "            target_sr = getattr(processor, 'sampling_rate', 16000)\n",
    "            if sr != target_sr:\n",
    "                y_res = librosa.resample(y, orig_sr=sr, target_sr=target_sr)\n",
    "                sr_use = target_sr\n",
    "            else:\n",
    "                y_res = y\n",
    "                sr_use = sr\n",
    "            with torch.no_grad():\n",
    "                inputs = processor(y_res, sampling_rate=sr_use, return_tensors='pt', padding=True)\n",
    "                for k in inputs:\n",
    "                    inputs[k] = inputs[k].to(device)\n",
    "                out = model(**inputs)\n",
    "                # Last hidden state: [B, T, C] -> mean over time\n",
    "                h = out.last_hidden_state.mean(dim=1).squeeze(0).detach().cpu().numpy()\n",
    "                return h\n",
    "        \n",
    "        rec_emb = None\n",
    "        if trimmed_audio is not None:\n",
    "            rec_emb = embed_audio(trimmed_audio.y, trimmed_audio.sr)\n",
    "        emb_rows = []\n",
    "        if rec_emb is not None:\n",
    "            rec_norm = rec_emb / (np.linalg.norm(rec_emb) + 1e-8)\n",
    "            for p in tqdm(sample_files, desc='Embedding scoring'):\n",
    "                try:\n",
    "                    a = load_audio(str(p), target_sr=TARGET_SR)\n",
    "                    e = embed_audio(a.y, a.sr)\n",
    "                    e_norm = e / (np.linalg.norm(e) + 1e-8)\n",
    "                    cos = float(np.dot(rec_norm, e_norm))\n",
    "                    emb_rows.append({'path': str(p), 'label': infer_label_from_path(Path(p)), 'cos_sim': cos})\n",
    "                except Exception as e:\n",
    "                    print('Embedding failed for', p, e)\n",
    "            embed_df = pd.DataFrame(emb_rows).sort_values('cos_sim', ascending=False)\n",
    "            display(embed_df.head(TOP_K))\n",
    "    except Exception as e:\n",
    "        print('Embedding section skipped:', e)\n",
    "else:\n",
    "    print('Torch/transformers not available. Skipping embedding section. To enable, install torch, torchaudio, transformers.')"
   ]
  },
  {
   "cell_type": "markdown",
   "id": "45660fc9",
   "metadata": {},
   "source": [
    "## 10) Ranking and Thresholding of Matches"
   ]
  },
  {
   "cell_type": "code",
   "execution_count": 11,
   "id": "9f783b38",
   "metadata": {},
   "outputs": [
    {
     "data": {
      "text/html": [
       "<div>\n",
       "<style scoped>\n",
       "    .dataframe tbody tr th:only-of-type {\n",
       "        vertical-align: middle;\n",
       "    }\n",
       "\n",
       "    .dataframe tbody tr th {\n",
       "        vertical-align: top;\n",
       "    }\n",
       "\n",
       "    .dataframe thead th {\n",
       "        text-align: right;\n",
       "    }\n",
       "</style>\n",
       "<table border=\"1\" class=\"dataframe\">\n",
       "  <thead>\n",
       "    <tr style=\"text-align: right;\">\n",
       "      <th></th>\n",
       "      <th>path</th>\n",
       "      <th>label</th>\n",
       "      <th>dtw_score</th>\n",
       "      <th>cos_sim</th>\n",
       "      <th>dtw_sim</th>\n",
       "      <th>score</th>\n",
       "    </tr>\n",
       "  </thead>\n",
       "  <tbody>\n",
       "    <tr>\n",
       "      <th>0</th>\n",
       "      <td>/home/nk21137/OneDrive/5years/graduation_resea...</td>\n",
       "      <td>vocabulary</td>\n",
       "      <td>0.413603</td>\n",
       "      <td>0.933435</td>\n",
       "      <td>1.0</td>\n",
       "      <td>0.973374</td>\n",
       "    </tr>\n",
       "  </tbody>\n",
       "</table>\n",
       "</div>"
      ],
      "text/plain": [
       "                                                path       label  dtw_score  \\\n",
       "0  /home/nk21137/OneDrive/5years/graduation_resea...  vocabulary   0.413603   \n",
       "\n",
       "    cos_sim  dtw_sim     score  \n",
       "0  0.933435      1.0  0.973374  "
      ]
     },
     "metadata": {},
     "output_type": "display_data"
    }
   ],
   "source": [
    "# Combine DTW and embedding (if available). If no embeddings, use DTW only.\n",
    "rank_df = pd.DataFrame()\n",
    "if not dtw_df.empty:\n",
    "    rank_df = dtw_df[['path', 'label', 'dtw_score']].copy()\n",
    "    if not embed_df.empty:\n",
    "        rank_df = rank_df.merge(embed_df[['path', 'cos_sim']], on='path', how='left')\n",
    "        # Convert to a unified score: lower dtw better, higher cos better\n",
    "        # Normalize dtw to [0,1] by min-max over candidates; invert for similarity\n",
    "        dtw_min, dtw_max = rank_df['dtw_score'].min(), rank_df['dtw_score'].max()\n",
    "        if dtw_max > dtw_min:\n",
    "            rank_df['dtw_sim'] = 1.0 - (rank_df['dtw_score'] - dtw_min) / (dtw_max - dtw_min)\n",
    "        else:\n",
    "            rank_df['dtw_sim'] = 1.0\n",
    "        rank_df['cos_sim'] = rank_df['cos_sim'].fillna(rank_df['cos_sim'].min() if not rank_df['cos_sim'].isna().all() else 0.0)\n",
    "        rank_df['score'] = 0.6 * rank_df['dtw_sim'] + 0.4 * rank_df['cos_sim']\n",
    "        rank_df = rank_df.sort_values('score', ascending=False)\n",
    "    else:\n",
    "        # Use 1/dtw as similarity proxy\n",
    "        rank_df['score'] = -rank_df['dtw_score']\n",
    "        rank_df = rank_df.sort_values('score', ascending=False)\n",
    "\n",
    "    display(rank_df.head(TOP_K))\n",
    "else:\n",
    "    print('No DTW results to rank.')"
   ]
  },
  {
   "cell_type": "markdown",
   "id": "df16ddbe",
   "metadata": {},
   "source": [
    "## 11) Visualization of Waveforms, Spectrograms, and DTW Path"
   ]
  },
  {
   "cell_type": "code",
   "execution_count": 16,
   "id": "37368fcc",
   "metadata": {},
   "outputs": [
    {
     "data": {
      "text/html": [
       "\n",
       "                <audio  controls=\"controls\" >\n",
       "                    <source src=\"data:audio/wav;base64,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\" type=\"audio/wav\" />\n",
       "                    Your browser does not support the audio element.\n",
       "                </audio>\n",
       "              "
      ],
      "text/plain": [
       "<IPython.lib.display.Audio object>"
      ]
     },
     "metadata": {},
     "output_type": "display_data"
    },
    {
     "name": "stderr",
     "output_type": "stream",
     "text": [
      "/home/nk21137/OneDrive/5years/graduation_research/ainu/src/audio_utils.py:67: UserWarning: With fmin=50.000, sr=16000 and frame_length=400, less than two periods of fmin fit into the frame, which can cause inaccurate pitch detection. Consider increasing to fmin=80.000 or frame_length=641.\n",
      "  f0 = librosa.yin(y, fmin=50, fmax=500, sr=audio.sr, frame_length=n_fft, hop_length=hop_length)\n"
     ]
    },
    {
     "data": {
      "image/png": "[encoded data removed]",
      "text/plain": [
       "<Figure size 1200x720 with 2 Axes>"
      ]
     },
     "metadata": {},
     "output_type": "display_data"
    },
    {
     "data": {
      "image/png": "[encoded data removed]",
      "text/plain": [
       "<Figure size 720x600 with 2 Axes>"
      ]
     },
     "metadata": {},
     "output_type": "display_data"
    }
   ],
   "source": [
    "from IPython.display import Audio, display as ipydisplay\n",
    "\n",
    "if rec_audio is not None:\n",
    "    ipydisplay(Audio(rec_audio.y, rate=rec_audio.sr))\n",
    "\n",
    "if F_rec_z is not None and not dtw_df.empty:\n",
    "    top_path = dtw_df.iloc[0]['path']\n",
    "    samp = trim_silence(load_audio(top_path, target_sr=TARGET_SR))\n",
    "    F_samp = extract_features(samp, n_mfcc=N_MFCC, hop_length=HOP_LENGTH, n_fft=N_FFT, add_deltas=True, add_prosody=True)\n",
    "    F_samp_z = zscore(F_samp)\n",
    "\n",
    "    # Waveforms\n",
    "    fig, axes = plt.subplots(2, 1, figsize=(10, 6), constrained_layout=True)\n",
    "    librosa.display.waveshow(trimmed_audio.y, sr=trimmed_audio.sr, ax=axes[0])\n",
    "    axes[0].set_title(f'Recording: {Path(rec_audio.path).name}')\n",
    "    librosa.display.waveshow(samp.y, sr=samp.sr, ax=axes[1], color='orange')\n",
    "    axes[1].set_title(f'Top Sample: {Path(samp.path).name}')\n",
    "    plt.show()\n",
    "\n",
    "    # Similarity matrix and DTW path\n",
    "    cost = 1.0 - cosine_similarity_matrix(F_rec_z, F_samp_z)\n",
    "    dist, path = dtw_distance(F_rec_z, F_samp_z, metric=DTW_METRIC)\n",
    "\n",
    "    fig, ax = plt.subplots(figsize=(6,5))\n",
    "    im = ax.imshow(cost, origin='lower', aspect='auto', cmap='magma')\n",
    "    ax.set_title(f'DTW Cost Matrix (dist={dist:.2f})')\n",
    "    ax.set_xlabel('Sample frames')\n",
    "    ax.set_ylabel('Recording frames')\n",
    "    # Plot path\n",
    "    ax.plot(path['index2'], path['index1'], color='cyan', linewidth=1)\n",
    "    fig.colorbar(im, ax=ax)\n",
    "    plt.show()"
   ]
  },
  {
   "cell_type": "markdown",
   "id": "53aadd99",
   "metadata": {},
   "source": [
    "## 12) Batch Processing and Caching of Features"
   ]
  },
  {
   "cell_type": "code",
   "execution_count": 17,
   "id": "193bf717",
   "metadata": {},
   "outputs": [
    {
     "name": "stdout",
     "output_type": "stream",
     "text": [
      "Cache already exists: /home/nk21137/OneDrive/5years/graduation_research/ainu/outputs/cache/samples_features_mfcc_prosody_npz.npz\n"
     ]
    }
   ],
   "source": [
    "CACHE_DIR = OUTPUT_DIR / 'cache'\n",
    "CACHE_DIR.mkdir(parents=True, exist_ok=True)\n",
    "CACHE_FILE = CACHE_DIR / 'samples_features_mfcc_prosody_npz.npz'\n",
    "\n",
    "if not sample_files:\n",
    "    print('No samples to cache.')\n",
    "else:\n",
    "    if not CACHE_FILE.exists():\n",
    "        print('Caching sample features to', CACHE_FILE)\n",
    "        arrays = {}\n",
    "        meta = {}\n",
    "        for i, (p, F) in enumerate(sample_feats):\n",
    "            key = f'F_{i}'\n",
    "            arrays[key] = F.astype(np.float32)\n",
    "            meta[key] = {'path': p}\n",
    "        np.savez_compressed(CACHE_FILE, **arrays)\n",
    "        with open(CACHE_FILE.with_suffix('.json'), 'w') as f:\n",
    "            json.dump(meta, f, indent=2)\n",
    "    else:\n",
    "        print('Cache already exists:', CACHE_FILE)\n"
   ]
  },
  {
   "cell_type": "markdown",
   "id": "42c75db9",
   "metadata": {},
   "source": [
    "## 13) Results Export (CSV/JSON) and Artifact Saving"
   ]
  },
  {
   "cell_type": "code",
   "execution_count": 18,
   "id": "f96b03c4",
   "metadata": {},
   "outputs": [
    {
     "name": "stdout",
     "output_type": "stream",
     "text": [
      "Saved results to /home/nk21137/OneDrive/5years/graduation_research/ainu/outputs/results/manu_top5.csv\n",
      "Saved plot to /home/nk21137/OneDrive/5years/graduation_research/ainu/outputs/results/manu_top1_cost_matrix.png\n"
     ]
    }
   ],
   "source": [
    "RESULTS_DIR = OUTPUT_DIR / 'results'\n",
    "RESULTS_DIR.mkdir(parents=True, exist_ok=True)\n",
    "\n",
    "if not rank_df.empty:\n",
    "    rec_name = Path(rec_audio.path).stem if rec_audio is not None else 'unknown_recording'\n",
    "    out_csv = RESULTS_DIR / f'{rec_name}_top{TOP_K}.csv'\n",
    "    rank_df.head(TOP_K).to_csv(out_csv, index=False)\n",
    "    print('Saved results to', out_csv)\n",
    "\n",
    "    # Save similarity matrix plot for the top result\n",
    "    if not dtw_df.empty:\n",
    "        top_path = dtw_df.iloc[0]['path']\n",
    "        samp = trim_silence(load_audio(top_path, target_sr=TARGET_SR))\n",
    "        F_samp = extract_features(samp, n_mfcc=N_MFCC, hop_length=HOP_LENGTH, n_fft=N_FFT, add_deltas=True, add_prosody=True)\n",
    "        F_samp_z = zscore(F_samp)\n",
    "        cost = 1.0 - cosine_similarity_matrix(F_rec_z, F_samp_z)\n",
    "        fig, ax = plt.subplots(figsize=(6,5))\n",
    "        im = ax.imshow(cost, origin='lower', aspect='auto', cmap='magma')\n",
    "        ax.set_title('Cost matrix')\n",
    "        ax.set_xlabel('Sample frames')\n",
    "        ax.set_ylabel('Recording frames')\n",
    "        fig.colorbar(im, ax=ax)\n",
    "        fig_path = RESULTS_DIR / f'{rec_name}_top1_cost_matrix.png'\n",
    "        fig.savefig(fig_path, dpi=150)\n",
    "        plt.close(fig)\n",
    "        print('Saved plot to', fig_path)\n",
    "else:\n",
    "    print('No ranking to export.')"
   ]
  },
  {
   "cell_type": "markdown",
   "id": "87c2fb49",
   "metadata": {},
   "source": [
    "## 14) Reusable Functions and Simple Widgets"
   ]
  },
  {
   "cell_type": "code",
   "execution_count": 19,
   "id": "55a3ecda",
   "metadata": {},
   "outputs": [
    {
     "data": {
      "application/vnd.jupyter.widget-view+json": {
       "model_id": "0b96fc6004074977bccb392eee90a6d5",
       "version_major": 2,
       "version_minor": 0
      },
      "text/plain": [
       "VBox(children=(Dropdown(description='Recording:', options=('<latest>', '/home/nk21137/OneDrive/5years/graduati…"
      ]
     },
     "execution_count": 19,
     "metadata": {},
     "output_type": "execute_result"
    }
   ],
   "source": [
    "import ipywidgets as W\n",
    "\n",
    "\n",
    "def run_comparison(recording_path: Path, samples_dir: Path) -> pd.DataFrame:\n",
    "    if not recording_path.exists():\n",
    "        print('Recording not found:', recording_path)\n",
    "        return pd.DataFrame()\n",
    "    sample_paths = list_audio_files(samples_dir)\n",
    "    if not sample_paths:\n",
    "        print('No samples found in', samples_dir)\n",
    "        return pd.DataFrame()\n",
    "    results = compare_recording_to_samples(str(recording_path), [str(p) for p in sample_paths], target_sr=TARGET_SR)\n",
    "    df = pd.DataFrame(results)\n",
    "    return df\n",
    "\n",
    "rec_opts = ['<latest>'] + [str(p) for p in list_audio_files(RECORDINGS_DIR)]\n",
    "widgets = {\n",
    "    'rec': W.Dropdown(options=rec_opts, description='Recording:'),\n",
    "    'run': W.Button(description='Run', button_style='primary'),\n",
    "    'out': W.Output()\n",
    "}\n",
    "\n",
    "@widgets['run'].on_click\n",
    "def _(_btn):\n",
    "    with widgets['out']:\n",
    "        widgets['out'].clear_output()\n",
    "        sel = widgets['rec'].value\n",
    "        path = latest_file(RECORDINGS_DIR) if sel == '<latest>' else Path(sel)\n",
    "        if path is None:\n",
    "            print('No recording available.')\n",
    "            return\n",
    "        df = run_comparison(path, SAMPLES_DIR)\n",
    "        if not df.empty:\n",
    "            display(df.head(TOP_K))\n",
    "        else:\n",
    "            print('No results.')\n",
    "\n",
    "W.VBox([widgets['rec'], widgets['run'], widgets['out']])"
   ]
  },
  {
   "cell_type": "markdown",
   "id": "8fbed592",
   "metadata": {},
   "source": [
    "## 15) Basic Sanity Checks"
   ]
  },
  {
   "cell_type": "code",
   "execution_count": 16,
   "id": "c4b7eed2",
   "metadata": {},
   "outputs": [
    {
     "name": "stdout",
     "output_type": "stream",
     "text": [
      "Voiced ratio after trim: 0.85\n",
      "Diagnostics complete.\n"
     ]
    }
   ],
   "source": [
    "# Sanity checks (safe to run multiple times)\n",
    "if rec_audio is not None:\n",
    "    assert rec_audio.sr == TARGET_SR, f\"Expected SR {TARGET_SR}, got {rec_audio.sr}\"\n",
    "    assert rec_audio.y.ndim == 1, 'Audio should be mono'\n",
    "    assert rec_audio.y.size > 0, 'Audio is empty'\n",
    "\n",
    "if F_rec is not None:\n",
    "    assert F_rec.ndim == 2 and F_rec.shape[0] > 0 and F_rec.shape[1] > 0, 'Invalid feature shape'\n",
    "\n",
    "if trimmed_audio is not None:\n",
    "    voiced_ratio = trimmed_audio.y.size / rec_audio.y.size if rec_audio is not None else 0\n",
    "    print(f\"Voiced ratio after trim: {voiced_ratio:.2f}\")\n",
    "\n",
    "print('Diagnostics complete.')"
   ]
  },
  {
   "cell_type": "markdown",
   "id": "254fb975",
   "metadata": {},
   "source": [
    "## 15) Direct File Comparison Function\n",
    "\n",
    "This section provides functionality to directly compare two specific audio files, useful for targeted pronunciation analysis."
   ]
  },
  {
   "cell_type": "code",
   "execution_count": 20,
   "id": "ecf021cc",
   "metadata": {},
   "outputs": [
    {
     "name": "stdout",
     "output_type": "stream",
     "text": [
      "✅ Direct comparison function loaded\n"
     ]
    }
   ],
   "source": [
    "def compare_specific_files(recording_path: str, sample_path: str, word: str = \"unknown\"):\n",
    "    \"\"\"\n",
    "    Compare two specific audio files directly\n",
    "    \n",
    "    Args:\n",
    "        recording_path: Path to recorded audio file\n",
    "        sample_path: Path to reference sample file  \n",
    "        word: Word being pronounced (for labeling)\n",
    "    \n",
    "    Returns:\n",
    "        Dictionary with comparison results\n",
    "    \"\"\"\n",
    "    from pathlib import Path\n",
    "    \n",
    "    print(f\"🎵 Ainu Audio Analysis: Comparing '{word}' pronunciations\")\n",
    "    print(\"=\" * 60)\n",
    "    print(f\"Recording: {recording_path}\")\n",
    "    print(f\"Sample:    {sample_path}\")\n",
    "    print()\n",
    "    \n",
    "    # Check if files exist\n",
    "    if not Path(recording_path).exists():\n",
    "        print(f\"❌ Recording file not found: {recording_path}\")\n",
    "        return None\n",
    "    if not Path(sample_path).exists():\n",
    "        print(f\"❌ Sample file not found: {sample_path}\")\n",
    "        return None\n",
    "    \n",
    "    try:\n",
    "        # Load recording\n",
    "        print(\"📂 Loading recording...\")\n",
    "        rec_audio = load_audio(recording_path, target_sr=TARGET_SR, mono=True)\n",
    "        rec_duration = rec_audio.y.shape[0] / rec_audio.sr\n",
    "        print(f\"   Duration: {rec_duration:.2f}s @ {rec_audio.sr} Hz\")\n",
    "        \n",
    "        # Load sample\n",
    "        print(\"📂 Loading sample...\")\n",
    "        samp_audio = load_audio(sample_path, target_sr=TARGET_SR, mono=True)\n",
    "        samp_duration = samp_audio.y.shape[0] / samp_audio.sr\n",
    "        print(f\"   Duration: {samp_duration:.2f}s @ {samp_audio.sr} Hz\")\n",
    "        print()\n",
    "        \n",
    "        # Trim silence\n",
    "        print(\"✂️  Trimming silence...\")\n",
    "        rec_trimmed = trim_silence(rec_audio, top_db=TRIM_DB)\n",
    "        samp_trimmed = trim_silence(samp_audio, top_db=TRIM_DB)\n",
    "        \n",
    "        rec_trim_dur = rec_trimmed.y.shape[0] / rec_trimmed.sr\n",
    "        samp_trim_dur = samp_trimmed.y.shape[0] / samp_trimmed.sr\n",
    "        print(f\"   Recording trimmed: {rec_trim_dur:.2f}s\")\n",
    "        print(f\"   Sample trimmed:    {samp_trim_dur:.2f}s\")\n",
    "        print()\n",
    "        \n",
    "        # Extract features\n",
    "        print(\"🔬 Extracting features...\")\n",
    "        rec_features = extract_features(rec_trimmed, n_mfcc=N_MFCC, hop_length=HOP_LENGTH, \n",
    "                                      n_fft=N_FFT, add_deltas=True, add_prosody=True)\n",
    "        samp_features = extract_features(samp_trimmed, n_mfcc=N_MFCC, hop_length=HOP_LENGTH,\n",
    "                                       n_fft=N_FFT, add_deltas=True, add_prosody=True)\n",
    "        \n",
    "        print(f\"   Recording features: {rec_features.shape} (frames × features)\")\n",
    "        print(f\"   Sample features:    {samp_features.shape} (frames × features)\")\n",
    "        print()\n",
    "        \n",
    "        # Normalize features\n",
    "        print(\"📊 Normalizing features...\")\n",
    "        rec_norm = zscore(rec_features)\n",
    "        samp_norm = zscore(samp_features)\n",
    "        print()\n",
    "        \n",
    "        # Calculate DTW similarity\n",
    "        print(\"🧮 Calculating DTW similarity...\")\n",
    "        try:\n",
    "            dtw_result = dtw_distance(rec_norm, samp_norm, metric=DTW_METRIC)\n",
    "            if isinstance(dtw_result, tuple) and len(dtw_result) == 2:\n",
    "                dtw_dist, dtw_path = dtw_result\n",
    "            else:\n",
    "                dtw_dist = dtw_result\n",
    "                dtw_path = None\n",
    "        except:\n",
    "            # Fallback DTW calculation\n",
    "            cost_matrix = 1.0 - cosine_similarity_matrix(rec_norm, samp_norm)\n",
    "            from dtw import dtw\n",
    "            alignment = dtw(cost_matrix)\n",
    "            dtw_dist = alignment.distance\n",
    "            dtw_path = list(zip(alignment.index1, alignment.index2))\n",
    "        \n",
    "        # Normalize DTW score by sequence lengths\n",
    "        total_frames = rec_norm.shape[0] + samp_norm.shape[0]\n",
    "        dtw_score = dtw_dist / max(total_frames, 1)\n",
    "        \n",
    "        print(f\"   DTW distance: {dtw_dist:.6f}\")\n",
    "        print(f\"   DTW score (normalized): {dtw_score:.8f}\")\n",
    "        print()\n",
    "        \n",
    "        # Calculate frame-wise cosine similarity\n",
    "        print(\"📈 Calculating cosine similarity matrix...\")\n",
    "        cos_sim_matrix = cosine_similarity_matrix(rec_norm, samp_norm)\n",
    "        mean_cos_sim = np.mean(cos_sim_matrix)\n",
    "        max_cos_sim = np.max(cos_sim_matrix)\n",
    "        \n",
    "        print(f\"   Mean cosine similarity: {mean_cos_sim:.4f}\")\n",
    "        print(f\"   Max cosine similarity:  {max_cos_sim:.4f}\")\n",
    "        print()\n",
    "        \n",
    "        # Analysis results\n",
    "        print(\"🎯 ANALYSIS RESULTS\")\n",
    "        print(\"=\" * 30)\n",
    "        print(f\"Word:                 '{word}'\")\n",
    "        print(f\"Recording duration:   {rec_trim_dur:.2f}s\")\n",
    "        print(f\"Sample duration:      {samp_trim_dur:.2f}s\")\n",
    "        print(f\"DTW alignment score:  {dtw_score:.8f} (lower = more similar)\")\n",
    "        print(f\"Cosine similarity:    {mean_cos_sim:.4f} (higher = more similar)\")\n",
    "        \n",
    "        # Interpretation\n",
    "        print()\n",
    "        print(\"📝 INTERPRETATION\")\n",
    "        print(\"=\" * 20)\n",
    "        if dtw_score < 0.001:\n",
    "            similarity_level = \"EXCELLENT\"\n",
    "        elif dtw_score < 0.01:\n",
    "            similarity_level = \"VERY GOOD\"\n",
    "        elif dtw_score < 0.1:\n",
    "            similarity_level = \"GOOD\"\n",
    "        elif dtw_score < 1.0:\n",
    "            similarity_level = \"MODERATE\"\n",
    "        else:\n",
    "            similarity_level = \"LOW\"\n",
    "            \n",
    "        print(f\"Pronunciation similarity: {similarity_level}\")\n",
    "        \n",
    "        if mean_cos_sim > 0.8:\n",
    "            acoustic_match = \"EXCELLENT acoustic match\"\n",
    "        elif mean_cos_sim > 0.6:\n",
    "            acoustic_match = \"GOOD acoustic match\"\n",
    "        elif mean_cos_sim > 0.4:\n",
    "            acoustic_match = \"MODERATE acoustic match\"\n",
    "        else:\n",
    "            acoustic_match = \"LOW acoustic match\"\n",
    "            \n",
    "        print(f\"Acoustic characteristics: {acoustic_match}\")\n",
    "        \n",
    "        # Return results dictionary\n",
    "        return {\n",
    "            'recording_file': recording_path,\n",
    "            'sample_file': sample_path,\n",
    "            'word': word,\n",
    "            'recording_duration': rec_trim_dur,\n",
    "            'sample_duration': samp_trim_dur,\n",
    "            'dtw_distance': dtw_dist,\n",
    "            'dtw_score': dtw_score,\n",
    "            'mean_cosine_similarity': mean_cos_sim,\n",
    "            'max_cosine_similarity': max_cos_sim,\n",
    "            'similarity_level': similarity_level,\n",
    "            'acoustic_match': acoustic_match,\n",
    "            'features': {\n",
    "                'recording': rec_norm,\n",
    "                'sample': samp_norm\n",
    "            },\n",
    "            'audio': {\n",
    "                'recording': rec_trimmed,\n",
    "                'sample': samp_trimmed\n",
    "            },\n",
    "            'cos_sim_matrix': cos_sim_matrix,\n",
    "            'dtw_path': dtw_path\n",
    "        }\n",
    "        \n",
    "    except Exception as e:\n",
    "        print(f\"❌ Error during analysis: {e}\")\n",
    "        return None\n",
    "\n",
    "print(\"✅ Direct comparison function loaded\")"
   ]
  },
  {
   "cell_type": "code",
   "execution_count": 18,
   "id": "061b0652",
   "metadata": {},
   "outputs": [
    {
     "name": "stdout",
     "output_type": "stream",
     "text": [
      "✅ Visualization function loaded\n"
     ]
    }
   ],
   "source": [
    "def visualize_comparison(result_dict, save_path=None):\n",
    "    \"\"\"\n",
    "    Create comprehensive visualizations for audio comparison results\n",
    "    \n",
    "    Args:\n",
    "        result_dict: Results from compare_specific_files()\n",
    "        save_path: Optional path to save the visualization\n",
    "    \"\"\"\n",
    "    if result_dict is None:\n",
    "        print(\"❌ No results to visualize\")\n",
    "        return\n",
    "    \n",
    "    # Extract data\n",
    "    rec_audio = result_dict['audio']['recording']\n",
    "    samp_audio = result_dict['audio']['sample']\n",
    "    rec_features = result_dict['features']['recording']\n",
    "    samp_features = result_dict['features']['sample']\n",
    "    cos_sim_matrix = result_dict['cos_sim_matrix']\n",
    "    word = result_dict['word']\n",
    "    \n",
    "    # Create figure with subplots\n",
    "    fig = plt.figure(figsize=(16, 12))\n",
    "    gs = fig.add_gridspec(3, 3, hspace=0.3, wspace=0.3)\n",
    "    \n",
    "    # 1. Recording waveform\n",
    "    ax1 = fig.add_subplot(gs[0, 0])\n",
    "    time_rec = np.linspace(0, len(rec_audio.y) / rec_audio.sr, len(rec_audio.y))\n",
    "    ax1.plot(time_rec, rec_audio.y, color='blue', alpha=0.7, linewidth=0.8)\n",
    "    ax1.set_title(f\"Recording: '{word}'\", fontsize=12, fontweight='bold')\n",
    "    ax1.set_xlabel('Time (s)')\n",
    "    ax1.set_ylabel('Amplitude')\n",
    "    ax1.grid(True, alpha=0.3)\n",
    "    \n",
    "    # 2. Sample waveform\n",
    "    ax2 = fig.add_subplot(gs[0, 1])\n",
    "    time_samp = np.linspace(0, len(samp_audio.y) / samp_audio.sr, len(samp_audio.y))\n",
    "    ax2.plot(time_samp, samp_audio.y, color='red', alpha=0.7, linewidth=0.8)\n",
    "    ax2.set_title(f\"Reference Sample: '{word}'\", fontsize=12, fontweight='bold')\n",
    "    ax2.set_xlabel('Time (s)')\n",
    "    ax2.set_ylabel('Amplitude')\n",
    "    ax2.grid(True, alpha=0.3)\n",
    "    \n",
    "    # 3. Spectrograms\n",
    "    ax3 = fig.add_subplot(gs[1, 0])\n",
    "    D_rec = librosa.amplitude_to_db(np.abs(librosa.stft(rec_audio.y, hop_length=HOP_LENGTH, n_fft=N_FFT)), ref=np.max)\n",
    "    img1 = librosa.display.specshow(D_rec, sr=rec_audio.sr, hop_length=HOP_LENGTH, \n",
    "                                   x_axis='time', y_axis='hz', ax=ax3, cmap='viridis')\n",
    "    ax3.set_title('Recording Spectrogram', fontsize=11)\n",
    "    ax3.set_ylabel('Frequency (Hz)')\n",
    "    \n",
    "    ax4 = fig.add_subplot(gs[1, 1])\n",
    "    D_samp = librosa.amplitude_to_db(np.abs(librosa.stft(samp_audio.y, hop_length=HOP_LENGTH, n_fft=N_FFT)), ref=np.max)\n",
    "    img2 = librosa.display.specshow(D_samp, sr=samp_audio.sr, hop_length=HOP_LENGTH,\n",
    "                                   x_axis='time', y_axis='hz', ax=ax4, cmap='viridis')\n",
    "    ax4.set_title('Sample Spectrogram', fontsize=11)\n",
    "    ax4.set_ylabel('Frequency (Hz)')\n",
    "    \n",
    "    # 4. MFCC comparison\n",
    "    ax5 = fig.add_subplot(gs[1, 2])\n",
    "    mfcc_rec = rec_features[:, :N_MFCC]  # First N_MFCC coefficients\n",
    "    mfcc_samp = samp_features[:, :N_MFCC]\n",
    "    \n",
    "    # Plot MFCC coefficients\n",
    "    time_frames_rec = np.arange(mfcc_rec.shape[0])\n",
    "    time_frames_samp = np.arange(mfcc_samp.shape[0])\n",
    "    \n",
    "    ax5.plot(time_frames_rec, np.mean(mfcc_rec, axis=1), 'b-', label='Recording', alpha=0.8)\n",
    "    ax5.plot(time_frames_samp, np.mean(mfcc_samp, axis=1), 'r-', label='Sample', alpha=0.8)\n",
    "    ax5.set_title('MFCC Comparison (Mean)', fontsize=11)\n",
    "    ax5.set_xlabel('Frame')\n",
    "    ax5.set_ylabel('MFCC Value')\n",
    "    ax5.legend()\n",
    "    ax5.grid(True, alpha=0.3)\n",
    "    \n",
    "    # 5. Cosine similarity matrix\n",
    "    ax6 = fig.add_subplot(gs[2, 0])\n",
    "    im = ax6.imshow(cos_sim_matrix, cmap='RdYlBu_r', aspect='auto', origin='lower')\n",
    "    ax6.set_title('Cosine Similarity Matrix', fontsize=11)\n",
    "    ax6.set_xlabel('Sample Frames')\n",
    "    ax6.set_ylabel('Recording Frames')\n",
    "    plt.colorbar(im, ax=ax6, shrink=0.8)\n",
    "    \n",
    "    # 6. DTW path visualization (if available)\n",
    "    ax7 = fig.add_subplot(gs[2, 1])\n",
    "    if result_dict.get('dtw_path'):\n",
    "        dtw_path = result_dict['dtw_path']\n",
    "        if dtw_path and len(dtw_path) > 0:\n",
    "            path_x, path_y = zip(*dtw_path)\n",
    "            ax7.imshow(cos_sim_matrix, cmap='RdYlBu_r', aspect='auto', origin='lower', alpha=0.6)\n",
    "            ax7.plot(path_y, path_x, 'w-', linewidth=2, alpha=0.8)\n",
    "            ax7.set_title('DTW Alignment Path', fontsize=11)\n",
    "            ax7.set_xlabel('Sample Frames')\n",
    "            ax7.set_ylabel('Recording Frames')\n",
    "        else:\n",
    "            ax7.text(0.5, 0.5, 'DTW Path\\nNot Available', ha='center', va='center', \n",
    "                    transform=ax7.transAxes, fontsize=12)\n",
    "            ax7.set_title('DTW Alignment Path', fontsize=11)\n",
    "    else:\n",
    "        ax7.text(0.5, 0.5, 'DTW Path\\nNot Available', ha='center', va='center', \n",
    "                transform=ax7.transAxes, fontsize=12)\n",
    "        ax7.set_title('DTW Alignment Path', fontsize=11)\n",
    "    \n",
    "    # 7. Summary statistics\n",
    "    ax8 = fig.add_subplot(gs[2, 2])\n",
    "    ax8.axis('off')\n",
    "    \n",
    "    # Create summary text\n",
    "    summary_text = f\"\"\"\n",
    "COMPARISON SUMMARY\n",
    "{'='*20}\n",
    "\n",
    "Word: '{word}'\n",
    "\n",
    "Durations:\n",
    "  Recording: {result_dict['recording_duration']:.2f}s\n",
    "  Sample: {result_dict['sample_duration']:.2f}s\n",
    "\n",
    "Similarity Metrics:\n",
    "  DTW Score: {result_dict['dtw_score']:.6f}\n",
    "  Cosine Sim: {result_dict['mean_cosine_similarity']:.4f}\n",
    "  Max Cosine: {result_dict['max_cosine_similarity']:.4f}\n",
    "\n",
    "Assessment:\n",
    "  Level: {result_dict['similarity_level']}\n",
    "  Match: {result_dict['acoustic_match']}\n",
    "    \"\"\"\n",
    "    \n",
    "    ax8.text(0.05, 0.95, summary_text, transform=ax8.transAxes, fontsize=10,\n",
    "            verticalalignment='top', fontfamily='monospace',\n",
    "            bbox=dict(boxstyle='round,pad=0.5', facecolor='lightgray', alpha=0.8))\n",
    "    \n",
    "    # Overall title\n",
    "    fig.suptitle(f\"Ainu Pronunciation Analysis: '{word}'\", fontsize=16, fontweight='bold', y=0.98)\n",
    "    \n",
    "    # Save if requested\n",
    "    if save_path:\n",
    "        plt.savefig(save_path, dpi=300, bbox_inches='tight')\n",
    "        print(f\"📊 Visualization saved to: {save_path}\")\n",
    "    \n",
    "    plt.tight_layout()\n",
    "    plt.show()\n",
    "\n",
    "print(\"✅ Visualization function loaded\")"
   ]
  },
  {
   "cell_type": "markdown",
   "id": "931cf0b1",
   "metadata": {},
   "source": [
    "## 16) Example: Compare \"manu\" pronunciations\n",
    "\n",
    "Now let's use our new functions to compare specific files. We'll analyze the \"manu\" (flower) pronunciation that we found in the dataset."
   ]
  },
  {
   "cell_type": "code",
   "execution_count": 21,
   "id": "8368bad4",
   "metadata": {},
   "outputs": [
    {
     "name": "stdout",
     "output_type": "stream",
     "text": [
      "⚠️  One or both files not found:\n",
      "   Recording: data/recordings/manu.wav ❌\n",
      "   Sample:    data/samples/Raven_and_the_First_Men/manu.wav ❌\n",
      "\n",
      "📋 Available sample files with 'manu':\n",
      "   Samples directory not found\n"
     ]
    }
   ],
   "source": [
    "# Define file paths for \"manu\" comparison\n",
    "recording_file = \"data/recordings/manu.wav\"\n",
    "sample_file = \"data/samples/Raven_and_the_First_Men/manu.wav\"\n",
    "\n",
    "# Check if files exist before proceeding\n",
    "from pathlib import Path\n",
    "\n",
    "if Path(recording_file).exists() and Path(sample_file).exists():\n",
    "    print(\"🔍 Files found! Proceeding with comparison...\")\n",
    "    \n",
    "    # Run the comparison\n",
    "    manu_results = compare_specific_files(recording_file, sample_file, word=\"manu\")\n",
    "    \n",
    "    if manu_results:\n",
    "        print(\"\\n\" + \"=\"*60)\n",
    "        print(\"📊 GENERATING VISUALIZATION...\")\n",
    "        print(\"=\"*60)\n",
    "        \n",
    "        # Create visualization\n",
    "        visualize_comparison(manu_results, save_path=\"outputs/results/manu_comparison.png\")\n",
    "        \n",
    "        # Save detailed results to CSV\n",
    "        import pandas as pd\n",
    "        \n",
    "        # Create results summary\n",
    "        results_summary = {\n",
    "            'word': [manu_results['word']],\n",
    "            'recording_file': [manu_results['recording_file']],\n",
    "            'sample_file': [manu_results['sample_file']],\n",
    "            'recording_duration': [manu_results['recording_duration']],\n",
    "            'sample_duration': [manu_results['sample_duration']],\n",
    "            'dtw_distance': [manu_results['dtw_distance']],\n",
    "            'dtw_score': [manu_results['dtw_score']],\n",
    "            'mean_cosine_similarity': [manu_results['mean_cosine_similarity']],\n",
    "            'max_cosine_similarity': [manu_results['max_cosine_similarity']],\n",
    "            'similarity_level': [manu_results['similarity_level']],\n",
    "            'acoustic_match': [manu_results['acoustic_match']]\n",
    "        }\n",
    "        \n",
    "        df_results = pd.DataFrame(results_summary)\n",
    "        results_path = \"outputs/results/manu_detailed_results.csv\"\n",
    "        df_results.to_csv(results_path, index=False)\n",
    "        print(f\"💾 Detailed results saved to: {results_path}\")\n",
    "        \n",
    "        print(\"\\n🎉 Analysis complete!\")\n",
    "        \n",
    "    else:\n",
    "        print(\"❌ Comparison failed!\")\n",
    "        \n",
    "else:\n",
    "    print(\"⚠️  One or both files not found:\")\n",
    "    print(f\"   Recording: {recording_file} {'✅' if Path(recording_file).exists() else '❌'}\")\n",
    "    print(f\"   Sample:    {sample_file} {'✅' if Path(sample_file).exists() else '❌'}\")\n",
    "    print()\n",
    "    print(\"📋 Available sample files with 'manu':\")\n",
    "    \n",
    "    # Search for manu files in samples directory\n",
    "    samples_dir = Path(\"data/samples\")\n",
    "    if samples_dir.exists():\n",
    "        manu_files = list(samples_dir.rglob(\"*manu*\"))\n",
    "        if manu_files:\n",
    "            for i, f in enumerate(manu_files, 1):\n",
    "                print(f\"   {i}. {f}\")\n",
    "        else:\n",
    "            print(\"   No files containing 'manu' found\")\n",
    "    else:\n",
    "        print(\"   Samples directory not found\")"
   ]
  },
  {
   "cell_type": "markdown",
   "id": "0f934dc1",
   "metadata": {},
   "source": [
    "## 17) Advanced Phonetic Analysis\n",
    "\n",
    "For deeper linguistic analysis, let's add functions that examine specific phonetic characteristics like formants, pitch patterns, and spectral features."
   ]
  },
  {
   "cell_type": "code",
   "execution_count": 20,
   "id": "116cb7a8",
   "metadata": {},
   "outputs": [
    {
     "name": "stdout",
     "output_type": "stream",
     "text": [
      "✅ Advanced phonetic analysis functions loaded\n"
     ]
    }
   ],
   "source": [
    "def analyze_phonetic_features(audio_data, sr, n_fft=2048, hop_length=512):\n",
    "    \"\"\"\n",
    "    Extract detailed phonetic features for linguistic analysis\n",
    "    \n",
    "    Args:\n",
    "        audio_data: Audio time series\n",
    "        sr: Sample rate\n",
    "        n_fft: FFT window size\n",
    "        hop_length: Hop length for analysis\n",
    "    \n",
    "    Returns:\n",
    "        Dictionary with phonetic analysis results\n",
    "    \"\"\"\n",
    "    \n",
    "    # Basic spectral features\n",
    "    spectral_centroids = librosa.feature.spectral_centroid(y=audio_data, sr=sr, hop_length=hop_length)[0]\n",
    "    spectral_rolloff = librosa.feature.spectral_rolloff(y=audio_data, sr=sr, hop_length=hop_length)[0]\n",
    "    spectral_bandwidth = librosa.feature.spectral_bandwidth(y=audio_data, sr=sr, hop_length=hop_length)[0]\n",
    "    zero_crossing_rate = librosa.feature.zero_crossing_rate(audio_data, hop_length=hop_length)[0]\n",
    "    \n",
    "    # Pitch (F0) analysis\n",
    "    f0 = librosa.yin(audio_data, fmin=librosa.note_to_hz('C2'), fmax=librosa.note_to_hz('C7'), sr=sr)\n",
    "    \n",
    "    # Mel-frequency features\n",
    "    mel_spectrogram = librosa.feature.melspectrogram(y=audio_data, sr=sr, n_fft=n_fft, hop_length=hop_length)\n",
    "    mel_db = librosa.power_to_db(mel_spectrogram, ref=np.max)\n",
    "    \n",
    "    # Chroma features (useful for tonal analysis)\n",
    "    chroma = librosa.feature.chroma_stft(y=audio_data, sr=sr, hop_length=hop_length)\n",
    "    \n",
    "    # Temporal features\n",
    "    onset_frames = librosa.onset.onset_detect(y=audio_data, sr=sr, hop_length=hop_length)\n",
    "    tempo, beats = librosa.beat.beat_track(y=audio_data, sr=sr, hop_length=hop_length)\n",
    "    \n",
    "    # Energy analysis\n",
    "    rms_energy = librosa.feature.rms(y=audio_data, hop_length=hop_length)[0]\n",
    "    \n",
    "    return {\n",
    "        'spectral_centroid': {\n",
    "            'mean': np.mean(spectral_centroids),\n",
    "            'std': np.std(spectral_centroids),\n",
    "            'values': spectral_centroids\n",
    "        },\n",
    "        'spectral_rolloff': {\n",
    "            'mean': np.mean(spectral_rolloff),\n",
    "            'std': np.std(spectral_rolloff),\n",
    "            'values': spectral_rolloff\n",
    "        },\n",
    "        'spectral_bandwidth': {\n",
    "            'mean': np.mean(spectral_bandwidth),\n",
    "            'std': np.std(spectral_bandwidth),\n",
    "            'values': spectral_bandwidth\n",
    "        },\n",
    "        'zero_crossing_rate': {\n",
    "            'mean': np.mean(zero_crossing_rate),\n",
    "            'std': np.std(zero_crossing_rate),\n",
    "            'values': zero_crossing_rate\n",
    "        },\n",
    "        'f0_pitch': {\n",
    "            'mean': np.mean(f0[f0 > 0]),  # Exclude zero values\n",
    "            'std': np.std(f0[f0 > 0]),\n",
    "            'min': np.min(f0[f0 > 0]) if np.sum(f0 > 0) > 0 else 0,\n",
    "            'max': np.max(f0[f0 > 0]) if np.sum(f0 > 0) > 0 else 0,\n",
    "            'values': f0\n",
    "        },\n",
    "        'rms_energy': {\n",
    "            'mean': np.mean(rms_energy),\n",
    "            'std': np.std(rms_energy),\n",
    "            'values': rms_energy\n",
    "        },\n",
    "        'mel_spectrogram': mel_db,\n",
    "        'chroma': chroma,\n",
    "        'onset_frames': onset_frames,\n",
    "        'tempo': tempo,\n",
    "        'beat_frames': beats\n",
    "    }\n",
    "\n",
    "def detailed_phonetic_comparison(result_dict):\n",
    "    \"\"\"\n",
    "    Perform detailed phonetic comparison between recording and sample\n",
    "    \n",
    "    Args:\n",
    "        result_dict: Results from compare_specific_files()\n",
    "    \n",
    "    Returns:\n",
    "        Dictionary with phonetic comparison results\n",
    "    \"\"\"\n",
    "    if result_dict is None:\n",
    "        return None\n",
    "    \n",
    "    # Extract audio data\n",
    "    rec_audio = result_dict['audio']['recording']\n",
    "    samp_audio = result_dict['audio']['sample']\n",
    "    \n",
    "    print(\"🔬 Analyzing phonetic features...\")\n",
    "    \n",
    "    # Analyze both recordings\n",
    "    rec_phonetic = analyze_phonetic_features(rec_audio.y, rec_audio.sr)\n",
    "    samp_phonetic = analyze_phonetic_features(samp_audio.y, samp_audio.sr)\n",
    "    \n",
    "    # Compare key features\n",
    "    comparisons = {}\n",
    "    \n",
    "    # Spectral comparisons\n",
    "    for feature in ['spectral_centroid', 'spectral_rolloff', 'spectral_bandwidth', 'zero_crossing_rate', 'rms_energy']:\n",
    "        rec_mean = rec_phonetic[feature]['mean']\n",
    "        samp_mean = samp_phonetic[feature]['mean']\n",
    "        \n",
    "        # Calculate relative difference\n",
    "        if samp_mean != 0:\n",
    "            relative_diff = abs(rec_mean - samp_mean) / samp_mean * 100\n",
    "        else:\n",
    "            relative_diff = 0\n",
    "            \n",
    "        comparisons[feature] = {\n",
    "            'recording_mean': rec_mean,\n",
    "            'sample_mean': samp_mean,\n",
    "            'absolute_difference': abs(rec_mean - samp_mean),\n",
    "            'relative_difference_percent': relative_diff,\n",
    "            'similarity_score': max(0, 100 - relative_diff)  # Simple similarity score\n",
    "        }\n",
    "    \n",
    "    # Pitch comparison (F0)\n",
    "    rec_f0_mean = rec_phonetic['f0_pitch']['mean']\n",
    "    samp_f0_mean = samp_phonetic['f0_pitch']['mean']\n",
    "    \n",
    "    if not (np.isnan(rec_f0_mean) or np.isnan(samp_f0_mean)) and samp_f0_mean > 0:\n",
    "        f0_relative_diff = abs(rec_f0_mean - samp_f0_mean) / samp_f0_mean * 100\n",
    "        f0_similarity = max(0, 100 - f0_relative_diff)\n",
    "    else:\n",
    "        f0_relative_diff = 0\n",
    "        f0_similarity = 0\n",
    "    \n",
    "    comparisons['f0_pitch'] = {\n",
    "        'recording_mean': rec_f0_mean,\n",
    "        'sample_mean': samp_f0_mean,\n",
    "        'absolute_difference': abs(rec_f0_mean - samp_f0_mean) if not (np.isnan(rec_f0_mean) or np.isnan(samp_f0_mean)) else 0,\n",
    "        'relative_difference_percent': f0_relative_diff,\n",
    "        'similarity_score': f0_similarity\n",
    "    }\n",
    "    \n",
    "    # Overall phonetic similarity (weighted average)\n",
    "    weights = {\n",
    "        'spectral_centroid': 0.25,\n",
    "        'spectral_rolloff': 0.20,\n",
    "        'spectral_bandwidth': 0.15,\n",
    "        'zero_crossing_rate': 0.10,\n",
    "        'f0_pitch': 0.20,\n",
    "        'rms_energy': 0.10\n",
    "    }\n",
    "    \n",
    "    overall_similarity = sum(comparisons[feature]['similarity_score'] * weights[feature] \n",
    "                           for feature in weights.keys())\n",
    "    \n",
    "    print(f\"📊 Phonetic analysis complete!\")\n",
    "    print(f\"   Overall phonetic similarity: {overall_similarity:.1f}%\")\n",
    "    \n",
    "    return {\n",
    "        'recording_features': rec_phonetic,\n",
    "        'sample_features': samp_phonetic,\n",
    "        'feature_comparisons': comparisons,\n",
    "        'overall_phonetic_similarity': overall_similarity,\n",
    "        'similarity_weights': weights\n",
    "    }\n",
    "\n",
    "def create_phonetic_report(result_dict, phonetic_analysis, save_path=None):\n",
    "    \"\"\"\n",
    "    Generate a detailed phonetic analysis report\n",
    "    \"\"\"\n",
    "    if result_dict is None or phonetic_analysis is None:\n",
    "        return\n",
    "        \n",
    "    word = result_dict['word']\n",
    "    \n",
    "    report = f\"\"\"\n",
    "# Detailed Phonetic Analysis Report: '{word}'\n",
    "\n",
    "## Overview\n",
    "- **Word**: {word}\n",
    "- **Recording Duration**: {result_dict['recording_duration']:.2f}s\n",
    "- **Sample Duration**: {result_dict['sample_duration']:.2f}s\n",
    "- **Overall Phonetic Similarity**: {phonetic_analysis['overall_phonetic_similarity']:.1f}%\n",
    "\n",
    "## Feature Comparison Summary\n",
    "\n",
    "| Feature | Recording | Sample | Difference | Similarity |\n",
    "|---------|-----------|---------|------------|------------|\n",
    "\"\"\"\n",
    "    \n",
    "    for feature, comparison in phonetic_analysis['feature_comparisons'].items():\n",
    "        feature_name = feature.replace('_', ' ').title()\n",
    "        rec_val = comparison['recording_mean']\n",
    "        samp_val = comparison['sample_mean']\n",
    "        diff_pct = comparison['relative_difference_percent']\n",
    "        sim_score = comparison['similarity_score']\n",
    "        \n",
    "        if feature == 'f0_pitch':\n",
    "            report += f\"| {feature_name} | {rec_val:.1f} Hz | {samp_val:.1f} Hz | {diff_pct:.1f}% | {sim_score:.1f}% |\\n\"\n",
    "        else:\n",
    "            report += f\"| {feature_name} | {rec_val:.3f} | {samp_val:.3f} | {diff_pct:.1f}% | {sim_score:.1f}% |\\n\"\n",
    "    \n",
    "    report += f\"\"\"\n",
    "\n",
    "## Interpretation\n",
    "\n",
    "### Spectral Characteristics\n",
    "- **Spectral Centroid**: Indicates the \"brightness\" of the sound\n",
    "- **Spectral Rolloff**: Shows the frequency below which 85% of energy is contained\n",
    "- **Spectral Bandwidth**: Measures the width of the frequency spectrum\n",
    "\n",
    "### Temporal Characteristics  \n",
    "- **Zero Crossing Rate**: Related to the \"roughness\" or \"noisiness\" of the signal\n",
    "- **RMS Energy**: Overall loudness/intensity of the speech\n",
    "\n",
    "### Pitch Analysis\n",
    "- **F0 (Fundamental Frequency)**: Primary pitch of the voice\n",
    "\n",
    "### Overall Assessment\n",
    "Based on the phonetic analysis, the pronunciation similarity is **{phonetic_analysis['overall_phonetic_similarity']:.1f}%**.\n",
    "\n",
    "\"\"\"\n",
    "    \n",
    "    # Add interpretation based on similarity score\n",
    "    if phonetic_analysis['overall_phonetic_similarity'] >= 85:\n",
    "        assessment = \"EXCELLENT - Very similar phonetic characteristics\"\n",
    "    elif phonetic_analysis['overall_phonetic_similarity'] >= 70:\n",
    "        assessment = \"GOOD - Generally similar with minor differences\"\n",
    "    elif phonetic_analysis['overall_phonetic_similarity'] >= 55:\n",
    "        assessment = \"MODERATE - Some similarities but noticeable differences\"\n",
    "    else:\n",
    "        assessment = \"NEEDS IMPROVEMENT - Significant phonetic differences\"\n",
    "    \n",
    "    report += f\"**Assessment**: {assessment}\\n\"\n",
    "    \n",
    "    if save_path:\n",
    "        with open(save_path, 'w', encoding='utf-8') as f:\n",
    "            f.write(report)\n",
    "        print(f\"📝 Phonetic report saved to: {save_path}\")\n",
    "    \n",
    "    print(\"📋 PHONETIC ANALYSIS REPORT\")\n",
    "    print(\"=\" * 50)\n",
    "    print(report)\n",
    "    \n",
    "    return report\n",
    "\n",
    "print(\"✅ Advanced phonetic analysis functions loaded\")"
   ]
  },
  {
   "cell_type": "markdown",
   "id": "8e2175aa",
   "metadata": {},
   "source": [
    "## 18) Interactive Analysis Widget\n",
    "\n",
    "Let's create an interactive widget that allows easy selection and comparison of audio files."
   ]
  },
  {
   "cell_type": "code",
   "execution_count": 21,
   "id": "9c4902fc",
   "metadata": {},
   "outputs": [
    {
     "data": {
      "application/vnd.jupyter.widget-view+json": {
       "model_id": "8b5b006e25bf484facd4cadd77ca5ecf",
       "version_major": 2,
       "version_minor": 0
      },
      "text/plain": [
       "VBox(children=(VBox(children=(HTML(value='<h3>🎵 Ainu Pronunciation Analyzer</h3>'), HBox(children=(Dropdown(de…"
      ]
     },
     "metadata": {},
     "output_type": "display_data"
    },
    {
     "name": "stdout",
     "output_type": "stream",
     "text": [
      "✅ Interactive analyzer ready!\n"
     ]
    }
   ],
   "source": [
    "try:\n",
    "    import ipywidgets as widgets\n",
    "    from IPython.display import display, HTML, Audio\n",
    "    \n",
    "    def create_interactive_analyzer():\n",
    "        \"\"\"\n",
    "        Create an interactive widget for audio file comparison\n",
    "        \"\"\"\n",
    "        \n",
    "        # Get available files\n",
    "        from pathlib import Path\n",
    "        \n",
    "        recordings_dir = Path(\"data/recordings\")\n",
    "        samples_dir = Path(\"data/samples\")\n",
    "        \n",
    "        # Find recording files\n",
    "        recording_files = []\n",
    "        if recordings_dir.exists():\n",
    "            recording_files = [str(f.relative_to(recordings_dir.parent)) for f in recordings_dir.glob(\"*.wav\")]\n",
    "        \n",
    "        # Find sample files  \n",
    "        sample_files = []\n",
    "        if samples_dir.exists():\n",
    "            sample_files = [str(f.relative_to(samples_dir.parent)) for f in samples_dir.rglob(\"*.wav\")]\n",
    "        \n",
    "        # Create widgets\n",
    "        recording_dropdown = widgets.Dropdown(\n",
    "            options=recording_files,\n",
    "            value=recording_files[0] if recording_files else None,\n",
    "            description='Recording:',\n",
    "            style={'description_width': 'initial'},\n",
    "            layout={'width': '400px'}\n",
    "        )\n",
    "        \n",
    "        sample_dropdown = widgets.Dropdown(\n",
    "            options=sample_files,\n",
    "            value=sample_files[0] if sample_files else None,\n",
    "            description='Sample:',\n",
    "            style={'description_width': 'initial'},\n",
    "            layout={'width': '400px'}\n",
    "        )\n",
    "        \n",
    "        word_input = widgets.Text(\n",
    "            value='unknown',\n",
    "            description='Word:',\n",
    "            style={'description_width': 'initial'},\n",
    "            layout={'width': '200px'}\n",
    "        )\n",
    "        \n",
    "        analyze_button = widgets.Button(\n",
    "            description='🔬 Analyze Pronunciation',\n",
    "            button_style='info',\n",
    "            layout={'width': '200px'}\n",
    "        )\n",
    "        \n",
    "        detailed_button = widgets.Button(\n",
    "            description='📊 Detailed Analysis',\n",
    "            button_style='success', \n",
    "            layout={'width': '200px'}\n",
    "        )\n",
    "        \n",
    "        output_area = widgets.Output()\n",
    "        \n",
    "        def on_analyze_click(b):\n",
    "            with output_area:\n",
    "                output_area.clear_output()\n",
    "                \n",
    "                if not recording_dropdown.value or not sample_dropdown.value:\n",
    "                    print(\"❌ Please select both recording and sample files\")\n",
    "                    return\n",
    "                \n",
    "                print(\"🚀 Starting analysis...\")\n",
    "                \n",
    "                # Run comparison\n",
    "                results = compare_specific_files(\n",
    "                    recording_dropdown.value,\n",
    "                    sample_dropdown.value, \n",
    "                    word_input.value\n",
    "                )\n",
    "                \n",
    "                if results:\n",
    "                    print(\"\\\\n📊 Creating visualization...\")\n",
    "                    visualize_comparison(results)\n",
    "                    \n",
    "                    # Show audio players for comparison\n",
    "                    print(\"\\\\n🎵 Audio Players:\")\n",
    "                    print(\"Recording:\")\n",
    "                    display(Audio(recording_dropdown.value))\n",
    "                    print(\"Sample:\")\n",
    "                    display(Audio(sample_dropdown.value))\n",
    "        \n",
    "        def on_detailed_click(b):\n",
    "            with output_area:\n",
    "                output_area.clear_output()\n",
    "                \n",
    "                if not recording_dropdown.value or not sample_dropdown.value:\n",
    "                    print(\"❌ Please select both recording and sample files\")\n",
    "                    return\n",
    "                \n",
    "                print(\"🔬 Starting detailed phonetic analysis...\")\n",
    "                \n",
    "                # Run basic comparison first\n",
    "                results = compare_specific_files(\n",
    "                    recording_dropdown.value,\n",
    "                    sample_dropdown.value,\n",
    "                    word_input.value\n",
    "                )\n",
    "                \n",
    "                if results:\n",
    "                    # Run detailed phonetic analysis\n",
    "                    phonetic_results = detailed_phonetic_comparison(results)\n",
    "                    \n",
    "                    if phonetic_results:\n",
    "                        # Create report\n",
    "                        report_path = f\"outputs/results/{word_input.value}_phonetic_report.md\"\n",
    "                        create_phonetic_report(results, phonetic_results, save_path=report_path)\n",
    "                        \n",
    "                        # Show visualization\n",
    "                        print(\"\\\\n📊 Creating visualization...\")\n",
    "                        visualize_comparison(results)\n",
    "        \n",
    "        # Connect button events\n",
    "        analyze_button.on_click(on_analyze_click)\n",
    "        detailed_button.on_click(on_detailed_click)\n",
    "        \n",
    "        # Layout\n",
    "        controls = widgets.VBox([\n",
    "            widgets.HTML(\"<h3>🎵 Ainu Pronunciation Analyzer</h3>\"),\n",
    "            widgets.HBox([recording_dropdown, word_input]),\n",
    "            sample_dropdown,\n",
    "            widgets.HBox([analyze_button, detailed_button]),\n",
    "            widgets.HTML(\"<hr>\")\n",
    "        ])\n",
    "        \n",
    "        return widgets.VBox([controls, output_area])\n",
    "    \n",
    "    # Create and display the widget\n",
    "    analyzer_widget = create_interactive_analyzer()\n",
    "    display(analyzer_widget)\n",
    "    \n",
    "    print(\"✅ Interactive analyzer ready!\")\n",
    "    \n",
    "except ImportError:\n",
    "    print(\"⚠️  ipywidgets not available. Using manual approach instead.\")\n",
    "    print(\"📋 Available files for manual comparison:\")\n",
    "    \n",
    "    from pathlib import Path\n",
    "    \n",
    "    # Show available files\n",
    "    recordings_dir = Path(\"data/recordings\")\n",
    "    samples_dir = Path(\"data/samples\")\n",
    "    \n",
    "    print(\"\\\\n📁 Recording files:\")\n",
    "    if recordings_dir.exists():\n",
    "        recording_files = list(recordings_dir.glob(\"*.wav\"))\n",
    "        for i, f in enumerate(recording_files, 1):\n",
    "            print(f\"   {i}. {f}\")\n",
    "    else:\n",
    "        print(\"   No recordings directory found\")\n",
    "    \n",
    "    print(\"\\\\n📁 Sample files (showing first 10):\")\n",
    "    if samples_dir.exists():\n",
    "        sample_files = list(samples_dir.rglob(\"*.wav\"))\n",
    "        for i, f in enumerate(sample_files[:10], 1):\n",
    "            print(f\"   {i}. {f}\")\n",
    "        if len(sample_files) > 10:\n",
    "            print(f\"   ... and {len(sample_files) - 10} more files\")\n",
    "    else:\n",
    "        print(\"   No samples directory found\")\n",
    "    \n",
    "    print(\"\\\\n💡 To run comparison manually, use:\")\n",
    "    print(\"   results = compare_specific_files('path/to/recording.wav', 'path/to/sample.wav', 'word')\")\n",
    "    print(\"   visualize_comparison(results)\")\n",
    "    print(\"   phonetic_analysis = detailed_phonetic_comparison(results)\")\n",
    "    print(\"   create_phonetic_report(results, phonetic_analysis)\")"
   ]
  },
  {
   "cell_type": "markdown",
   "id": "d7a36c8d",
   "metadata": {},
   "source": [
    "## 🎉 Notebook Conversion Complete!\n",
    "\n",
    "This notebook now contains all the functionality from the standalone Python scripts:\n",
    "\n",
    "### 📋 What's Available:\n",
    "\n",
    "1. **Basic Analysis Functions** (Sections 1-14)\n",
    "   - Audio loading, preprocessing, and feature extraction\n",
    "   - DTW distance calculation and cosine similarity\n",
    "   - Visualization and batch processing capabilities\n",
    "\n",
    "2. **Direct File Comparison** (Sections 15-16)\n",
    "   - `compare_specific_files()` - Complete pronunciation analysis\n",
    "   - `visualize_comparison()` - Comprehensive visualization suite\n",
    "   - Example usage with \"manu\" files\n",
    "\n",
    "3. **Advanced Phonetic Analysis** (Section 17)\n",
    "   - `analyze_phonetic_features()` - Detailed spectral and pitch analysis\n",
    "   - `detailed_phonetic_comparison()` - Feature-by-feature comparison\n",
    "   - `create_phonetic_report()` - Formatted analysis reports\n",
    "\n",
    "4. **Interactive Interface** (Section 18)\n",
    "   - Widget-based file selection (if ipywidgets available)\n",
    "   - Integrated audio playback\n",
    "   - One-click analysis and reporting\n",
    "\n",
    "### 🚀 Quick Start Examples:\n",
    "\n",
    "```python\n",
    "# Basic comparison\n",
    "results = compare_specific_files('data/recordings/manu.wav', 'data/samples/story/manu.wav', 'manu')\n",
    "visualize_comparison(results)\n",
    "\n",
    "# Detailed phonetic analysis  \n",
    "phonetic_analysis = detailed_phonetic_comparison(results)\n",
    "create_phonetic_report(results, phonetic_analysis, 'my_analysis_report.md')\n",
    "```\n",
    "\n",
    "### 📁 Output Files:\n",
    "- Visualizations: `outputs/results/`\n",
    "- CSV results: `outputs/results/`\n",
    "- Phonetic reports: `outputs/results/`\n",
    "- Cached features: `outputs/cache/`\n",
    "\n",
    "The notebook workflow now provides the same functionality as the standalone scripts with improved interactivity and visualization!"
   ]
  }
 ],
 "metadata": {
  "kernelspec": {
   "display_name": "venv",
   "language": "python",
   "name": "python3"
  },
  "language_info": {
   "codemirror_mode": {
    "name": "ipython",
    "version": 3
   },
   "file_extension": ".py",
   "mimetype": "text/x-python",
   "name": "python",
   "nbconvert_exporter": "python",
   "pygments_lexer": "ipython3",
   "version": "3.12.3"
  }
 },
 "nbformat": 4,
 "nbformat_minor": 5
}
